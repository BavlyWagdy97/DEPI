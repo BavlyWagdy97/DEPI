{
 "cells": [
  {
   "cell_type": "markdown",
   "metadata": {},
   "source": [
    "# Question & Answers based on the Employee Database "
   ]
  },
  {
   "cell_type": "markdown",
   "metadata": {},
   "source": [
    "## Basics Queries "
   ]
  },
  {
   "cell_type": "markdown",
   "metadata": {},
   "source": [
    "#### Query 1"
   ]
  },
  {
   "cell_type": "markdown",
   "metadata": {},
   "source": [
    "List all employees' names and their hire dates: "
   ]
  },
  {
   "cell_type": "markdown",
   "metadata": {},
   "source": [
    "##### Answer"
   ]
  },
  {
   "cell_type": "code",
   "execution_count": null,
   "metadata": {
    "vscode": {
     "languageId": "sql"
    }
   },
   "outputs": [],
   "source": [
    "SELECT first_name,last_name,hire_date\n",
    "FROM employees;"
   ]
  },
  {
   "cell_type": "markdown",
   "metadata": {},
   "source": [
    "#### Query 2"
   ]
  },
  {
   "cell_type": "markdown",
   "metadata": {},
   "source": [
    "Find the highest salary in the database"
   ]
  },
  {
   "cell_type": "markdown",
   "metadata": {},
   "source": [
    "##### Answer"
   ]
  },
  {
   "cell_type": "code",
   "execution_count": null,
   "metadata": {
    "vscode": {
     "languageId": "sql"
    }
   },
   "outputs": [],
   "source": [
    "SELECT MAX(salary) , emp_no\n",
    "FROM salaries;"
   ]
  },
  {
   "cell_type": "markdown",
   "metadata": {},
   "source": [
    "#### Query 3"
   ]
  },
  {
   "cell_type": "markdown",
   "metadata": {},
   "source": [
    "List all employees who were hired in the year 2000:\n",
    "\n",
    "Note that: to get the year in sqlite we use: strftime('%Y', date_column)"
   ]
  },
  {
   "cell_type": "markdown",
   "metadata": {},
   "source": [
    "##### Answer"
   ]
  },
  {
   "cell_type": "code",
   "execution_count": null,
   "metadata": {
    "vscode": {
     "languageId": "sql"
    }
   },
   "outputs": [],
   "source": [
    "SELECT first_name,last_name,hire_date FROM employees\n",
    "WHERE strftime('%Y', hire_date) = '2000';"
   ]
  },
  {
   "cell_type": "markdown",
   "metadata": {},
   "source": [
    "in SQLite we can extract the year as follow: "
   ]
  },
  {
   "cell_type": "code",
   "execution_count": null,
   "metadata": {
    "vscode": {
     "languageId": "sql"
    }
   },
   "outputs": [],
   "source": [
    "SELECT * FROM employees\n",
    "WHERE strftime('%Y', hire_date) = '2000';"
   ]
  },
  {
   "cell_type": "markdown",
   "metadata": {},
   "source": [
    "#### Query 4"
   ]
  },
  {
   "cell_type": "markdown",
   "metadata": {},
   "source": [
    "Find the average salary for all employees:"
   ]
  },
  {
   "cell_type": "markdown",
   "metadata": {},
   "source": [
    "##### Answer"
   ]
  },
  {
   "cell_type": "code",
   "execution_count": null,
   "metadata": {
    "vscode": {
     "languageId": "sql"
    }
   },
   "outputs": [],
   "source": [
    "SELECT COUNT(*) , AVG(salary)\n",
    "FROM salaries;"
   ]
  },
  {
   "cell_type": "markdown",
   "metadata": {},
   "source": [
    "#### Query 5"
   ]
  },
  {
   "cell_type": "markdown",
   "metadata": {},
   "source": [
    "List all departments and the number of employees in each"
   ]
  },
  {
   "cell_type": "markdown",
   "metadata": {},
   "source": [
    "- as a hint run the following query"
   ]
  },
  {
   "cell_type": "code",
   "execution_count": null,
   "metadata": {
    "vscode": {
     "languageId": "sql"
    }
   },
   "outputs": [],
   "source": [
    "SELECT d.dept_name , d.dept_no, e.emp_no \n",
    "FROM departments d\n",
    "JOIN dept_emp e ON d.dept_no = e.dept_no"
   ]
  },
  {
   "cell_type": "markdown",
   "metadata": {},
   "source": [
    "##### Answer"
   ]
  },
  {
   "cell_type": "code",
   "execution_count": null,
   "metadata": {
    "vscode": {
     "languageId": "sql"
    }
   },
   "outputs": [],
   "source": [
    "SELECT d.dept_name , d.dept_no, COUNT(e.emp_no) \n",
    "FROM departments d\n",
    "JOIN dept_emp e ON d.dept_no = e.dept_no\n",
    "GROUP BY d.dept_name;"
   ]
  },
  {
   "cell_type": "markdown",
   "metadata": {},
   "source": [
    "#### Query 6"
   ]
  },
  {
   "cell_type": "markdown",
   "metadata": {},
   "source": [
    "List all employees whose first name starts with 'A'"
   ]
  },
  {
   "cell_type": "markdown",
   "metadata": {},
   "source": [
    "##### Answer"
   ]
  },
  {
   "cell_type": "code",
   "execution_count": null,
   "metadata": {
    "vscode": {
     "languageId": "sql"
    }
   },
   "outputs": [],
   "source": [
    "SELECT first_name,last_name\n",
    "FROM employees\n",
    "WHERE first_name LIKE \"A%\";"
   ]
  },
  {
   "cell_type": "markdown",
   "metadata": {},
   "source": [
    "#### Query 7"
   ]
  },
  {
   "cell_type": "markdown",
   "metadata": {},
   "source": [
    "Find the number of employees in the 'Sales' department"
   ]
  },
  {
   "cell_type": "markdown",
   "metadata": {},
   "source": [
    "##### Answer"
   ]
  },
  {
   "cell_type": "code",
   "execution_count": null,
   "metadata": {
    "vscode": {
     "languageId": "sql"
    }
   },
   "outputs": [],
   "source": [
    "SELECT d.dept_name , d.dept_no,COUNT(e.emp_no) \n",
    "FROM departments d\n",
    "JOIN dept_emp e ON d.dept_no = e.dept_no AND d.dept_name = 'Sales'\n",
    "GROUP BY d.dept_name;"
   ]
  },
  {
   "cell_type": "markdown",
   "metadata": {},
   "source": [
    "#### Query 8"
   ]
  },
  {
   "cell_type": "markdown",
   "metadata": {},
   "source": [
    "List all employees who were hired in the year 1995"
   ]
  },
  {
   "cell_type": "markdown",
   "metadata": {},
   "source": [
    "##### Answer"
   ]
  },
  {
   "cell_type": "code",
   "execution_count": null,
   "metadata": {
    "vscode": {
     "languageId": "sql"
    }
   },
   "outputs": [],
   "source": [
    "SELECT first_name,last_name,hire_date FROM employees\n",
    "WHERE strftime('%Y', hire_date) = '1995';"
   ]
  },
  {
   "cell_type": "code",
   "execution_count": null,
   "metadata": {
    "vscode": {
     "languageId": "sql"
    }
   },
   "outputs": [],
   "source": []
  },
  {
   "cell_type": "markdown",
   "metadata": {},
   "source": [
    "to get the count of them "
   ]
  },
  {
   "cell_type": "code",
   "execution_count": null,
   "metadata": {
    "vscode": {
     "languageId": "sql"
    }
   },
   "outputs": [],
   "source": [
    "SELECT count(*) FROM employees\n",
    "WHERE strftime('%Y', hire_date) = '1995';"
   ]
  },
  {
   "cell_type": "markdown",
   "metadata": {},
   "source": [
    "#### Query 9 "
   ]
  },
  {
   "cell_type": "markdown",
   "metadata": {},
   "source": [
    "Find the average salary of all employees"
   ]
  },
  {
   "cell_type": "markdown",
   "metadata": {},
   "source": [
    "##### Answer"
   ]
  },
  {
   "cell_type": "code",
   "execution_count": null,
   "metadata": {
    "vscode": {
     "languageId": "sql"
    }
   },
   "outputs": [],
   "source": [
    "SELECT AVG(salary)\n",
    "FROM salaries; "
   ]
  },
  {
   "cell_type": "markdown",
   "metadata": {},
   "source": [
    "#### Query 10"
   ]
  },
  {
   "cell_type": "markdown",
   "metadata": {},
   "source": [
    "List the top 5 highest-paid employees"
   ]
  },
  {
   "cell_type": "markdown",
   "metadata": {},
   "source": [
    "- as hint you can use **LIMIT** funtion to print only the number after it. "
   ]
  },
  {
   "cell_type": "markdown",
   "metadata": {},
   "source": [
    "##### Answer"
   ]
  },
  {
   "cell_type": "code",
   "execution_count": null,
   "metadata": {
    "vscode": {
     "languageId": "sql"
    }
   },
   "outputs": [],
   "source": [
    "SELECT salary\n",
    "FROM salaries\n",
    "ORDER BY salary DESC\n",
    "LIMIT 5;"
   ]
  },
  {
   "cell_type": "markdown",
   "metadata": {},
   "source": [
    "#### Query 11"
   ]
  },
  {
   "cell_type": "markdown",
   "metadata": {},
   "source": [
    "List all employees and their department names."
   ]
  },
  {
   "cell_type": "markdown",
   "metadata": {},
   "source": [
    "UpSolve"
   ]
  },
  {
   "cell_type": "code",
   "execution_count": null,
   "metadata": {
    "vscode": {
     "languageId": "sql"
    }
   },
   "outputs": [],
   "source": [
    "select e.first_name,e.last_name,d.dept_name\n",
    "from employees e\n",
    "join dept_emp de on e.emp_no=de.emp_no\n",
    "join departments d on d.dept_no = de.dept_no;"
   ]
  },
  {
   "cell_type": "markdown",
   "metadata": {},
   "source": [
    "#### Query 12"
   ]
  },
  {
   "cell_type": "markdown",
   "metadata": {},
   "source": [
    "Find the number of employees in each department"
   ]
  },
  {
   "cell_type": "markdown",
   "metadata": {},
   "source": [
    "##### Answer"
   ]
  },
  {
   "cell_type": "code",
   "execution_count": null,
   "metadata": {
    "vscode": {
     "languageId": "sql"
    }
   },
   "outputs": [],
   "source": [
    "select d.* , count(e.emp_no)\n",
    "from departments d\n",
    "join dept_emp e on d.dept_no = e.dept_no\n",
    "group by d.dept_name;"
   ]
  },
  {
   "cell_type": "markdown",
   "metadata": {},
   "source": [
    "#### Query 13"
   ]
  },
  {
   "cell_type": "markdown",
   "metadata": {},
   "source": [
    "List all employees who have never had a salary increase"
   ]
  },
  {
   "cell_type": "markdown",
   "metadata": {},
   "source": [
    "##### Answer"
   ]
  },
  {
   "cell_type": "markdown",
   "metadata": {},
   "source": [
    "UpSolve"
   ]
  },
  {
   "cell_type": "code",
   "execution_count": null,
   "metadata": {
    "vscode": {
     "languageId": "sql"
    }
   },
   "outputs": [],
   "source": [
    "SELECT e.first_name, e.last_name\n",
    "FROM employees e\n",
    "WHERE NOT EXISTS (\n",
    "    SELECT 1\n",
    "    FROM salaries s\n",
    "    WHERE s.emp_no = e.emp_no\n",
    "    AND s.salary > (\n",
    "        SELECT MIN(salary) \n",
    "        FROM salaries \n",
    "        WHERE emp_no = e.emp_no)\n",
    ");"
   ]
  },
  {
   "cell_type": "markdown",
   "metadata": {},
   "source": [
    "#### Query 14"
   ]
  },
  {
   "cell_type": "markdown",
   "metadata": {},
   "source": [
    "Find the highest salary for each department."
   ]
  },
  {
   "cell_type": "markdown",
   "metadata": {},
   "source": [
    "##### Answer"
   ]
  },
  {
   "cell_type": "code",
   "execution_count": null,
   "metadata": {
    "vscode": {
     "languageId": "sql"
    }
   },
   "outputs": [],
   "source": [
    "select d.dept_name , max(s.salary)\n",
    "from departments d \n",
    "join dept_emp de on de.dept_no = d.dept_no\n",
    "join salaries s on de.emp_no = s.emp_no\n",
    "GROUP by d.dept_name;"
   ]
  },
  {
   "cell_type": "markdown",
   "metadata": {},
   "source": [
    "#### Query 15"
   ]
  },
  {
   "cell_type": "markdown",
   "metadata": {},
   "source": [
    "List all employees who have had more than one manager"
   ]
  },
  {
   "cell_type": "markdown",
   "metadata": {},
   "source": [
    "##### Answer"
   ]
  },
  {
   "cell_type": "code",
   "execution_count": null,
   "metadata": {
    "vscode": {
     "languageId": "sql"
    }
   },
   "outputs": [],
   "source": [
    "select e.first_name , e.last_name , count(dm.emp_no) as mx_manager\n",
    "from employees e \n",
    "join dept_emp de on e.emp_no=de.emp_no \n",
    "join dept_manager dm on dm.dept_no = de.dept_no\n",
    "group by e.first_name , e.last_name , e.emp_no\n",
    "having mx_manager > 1;"
   ]
  },
  {
   "cell_type": "markdown",
   "metadata": {},
   "source": [
    "## Intermediate Queries"
   ]
  },
  {
   "cell_type": "markdown",
   "metadata": {},
   "source": [
    "#### Query 1"
   ]
  },
  {
   "cell_type": "markdown",
   "metadata": {},
   "source": [
    "List all employees who have been with the company for more than 15 years:"
   ]
  },
  {
   "cell_type": "markdown",
   "metadata": {},
   "source": [
    "- hint \n",
    "\n",
    "DATEDIFF(CURDATE(), hire_date)  = > JULIANDAY(date('now')) - JULIANDAY(hire_date) \n",
    "\n",
    "DATEDIFF(CURDATE(), hire_date) > 15*365.25 --> MySQL\n",
    "\n",
    "JULIANDAY(date('now')) - JULIANDAY(hire_date) / 365.25 > 15 --> SQLlite"
   ]
  },
  {
   "cell_type": "markdown",
   "metadata": {},
   "source": [
    "##### Answer"
   ]
  },
  {
   "cell_type": "code",
   "execution_count": null,
   "metadata": {
    "vscode": {
     "languageId": "sql"
    }
   },
   "outputs": [],
   "source": [
    "select *\n",
    "from employees \n",
    "where DATEDIFF(CURDATE(), hire_date) > 15*365.25 ;"
   ]
  },
  {
   "cell_type": "markdown",
   "metadata": {},
   "source": [
    "in SQLite "
   ]
  },
  {
   "cell_type": "code",
   "execution_count": null,
   "metadata": {
    "vscode": {
     "languageId": "sql"
    }
   },
   "outputs": [],
   "source": [
    "select *\n",
    "from employees \n",
    "where JULIANDAY(date('now')) - JULIANDAY(hire_date) / 365.25 > 15 ;"
   ]
  },
  {
   "cell_type": "markdown",
   "metadata": {},
   "source": [
    "#### Query 2"
   ]
  },
  {
   "cell_type": "markdown",
   "metadata": {},
   "source": [
    "Find the highest salary paid to an employee in the 'Sales' department:"
   ]
  },
  {
   "cell_type": "markdown",
   "metadata": {},
   "source": [
    "##### Answer"
   ]
  },
  {
   "cell_type": "code",
   "execution_count": null,
   "metadata": {
    "vscode": {
     "languageId": "sql"
    }
   },
   "outputs": [],
   "source": [
    "select max(salary)\n",
    "from salaries s\n",
    "join dept_emp de on de.emp_no = s.emp_no\n",
    "join departments d on de.dept_no = d.dept_no\n",
    "group by d.dept_name \n",
    "having d.dept_name = 'Sales';"
   ]
  },
  {
   "cell_type": "markdown",
   "metadata": {},
   "source": [
    "#### Query 3"
   ]
  },
  {
   "cell_type": "markdown",
   "metadata": {},
   "source": [
    "List all employees who have had more than 2 different titles:"
   ]
  },
  {
   "cell_type": "markdown",
   "metadata": {},
   "source": [
    "##### Answer"
   ]
  },
  {
   "cell_type": "code",
   "execution_count": null,
   "metadata": {
    "vscode": {
     "languageId": "sql"
    }
   },
   "outputs": [],
   "source": [
    "select *\n",
    "from employees e\n",
    "where 2 < (select count(emp_no)\n",
    "\t\t   from titles t\n",
    "\t\t   where e.emp_no = t.emp_no\n",
    ");"
   ]
  },
  {
   "cell_type": "markdown",
   "metadata": {},
   "source": [
    "#### Query 4"
   ]
  },
  {
   "cell_type": "markdown",
   "metadata": {},
   "source": [
    "Find the average salary for female employees in the 'Engineering' department:"
   ]
  },
  {
   "cell_type": "markdown",
   "metadata": {},
   "source": [
    "##### Answer"
   ]
  },
  {
   "cell_type": "code",
   "execution_count": null,
   "metadata": {
    "vscode": {
     "languageId": "sql"
    }
   },
   "outputs": [],
   "source": [
    "SELECT AVG(s.salary) AS avg_salary\n",
    "FROM salaries s\n",
    "JOIN employees e \n",
    "JOIN dept_emp de ON s.emp_no = de.emp_no AND s.emp_no = e.emp_no\n",
    "JOIN departments d ON de.dept_no = d.dept_no\n",
    "GROUP BY d.dept_name\n",
    "HAVING e.gender = 'F' AND d.dept_name = 'Engingeering';"
   ]
  },
  {
   "cell_type": "code",
   "execution_count": null,
   "metadata": {
    "vscode": {
     "languageId": "sql"
    }
   },
   "outputs": [],
   "source": []
  },
  {
   "cell_type": "markdown",
   "metadata": {},
   "source": [
    "#### Query 5"
   ]
  },
  {
   "cell_type": "markdown",
   "metadata": {},
   "source": [
    "List all employees who have never had a salary increase:"
   ]
  },
  {
   "cell_type": "markdown",
   "metadata": {},
   "source": [
    "##### Answer"
   ]
  },
  {
   "cell_type": "code",
   "execution_count": null,
   "metadata": {
    "vscode": {
     "languageId": "sql"
    }
   },
   "outputs": [],
   "source": [
    "SELECT e.first_name, e.last_name\n",
    "FROM employees e\n",
    "WHERE NOT EXISTS (\n",
    "    SELECT 1\n",
    "    FROM salaries s\n",
    "    WHERE s.emp_no = e.emp_no\n",
    "    AND s.salary > (\n",
    "        SELECT MIN(salary) \n",
    "        FROM salaries \n",
    "        WHERE emp_no = e.emp_no)\n",
    ");"
   ]
  },
  {
   "cell_type": "markdown",
   "metadata": {},
   "source": [
    "#### Query 6"
   ]
  },
  {
   "cell_type": "markdown",
   "metadata": {},
   "source": [
    "Find the average salary for female employees in the 'Sales' department."
   ]
  },
  {
   "cell_type": "markdown",
   "metadata": {},
   "source": [
    "##### Answer"
   ]
  },
  {
   "cell_type": "code",
   "execution_count": null,
   "metadata": {
    "vscode": {
     "languageId": "sql"
    }
   },
   "outputs": [],
   "source": [
    "SELECT AVG(s.salary) AS avg_salary\n",
    "FROM salaries s\n",
    "JOIN employees e \n",
    "JOIN dept_emp de ON s.employee_no = de.emp_no AND s.employee_no = e.emp_no\n",
    "JOIN departments d ON de.dept_no = d.dept_no\n",
    "GROUP BY d.dept_name\n",
    "HAVING e.gender = 'F' AND d.dept_name = 'Sales';"
   ]
  },
  {
   "cell_type": "markdown",
   "metadata": {},
   "source": [
    "#### Query 7"
   ]
  },
  {
   "cell_type": "markdown",
   "metadata": {},
   "source": [
    "List all employees who have been with the company for more than 10 years"
   ]
  },
  {
   "cell_type": "markdown",
   "metadata": {},
   "source": [
    "- hint: JULIANDAY(date('now')) - JULIANDAY(hire_date)"
   ]
  },
  {
   "cell_type": "markdown",
   "metadata": {},
   "source": [
    "##### Answer"
   ]
  },
  {
   "cell_type": "code",
   "execution_count": null,
   "metadata": {
    "vscode": {
     "languageId": "sql"
    }
   },
   "outputs": [],
   "source": [
    "select *\n",
    "from employees \n",
    "where JULIANDAY(date('now')) - JULIANDAY(hire_date) / 365.25 > 10 ;"
   ]
  },
  {
   "cell_type": "code",
   "execution_count": null,
   "metadata": {
    "vscode": {
     "languageId": "sql"
    }
   },
   "outputs": [],
   "source": [
    "select *\n",
    "from employees \n",
    "where DATEDIFF(CURDATE(), hire_date) > 10*365.25 ;"
   ]
  },
  {
   "cell_type": "markdown",
   "metadata": {},
   "source": [
    "#### Query 8"
   ]
  },
  {
   "cell_type": "markdown",
   "metadata": {},
   "source": [
    "Find the employee who has had the most job titles"
   ]
  },
  {
   "cell_type": "markdown",
   "metadata": {},
   "source": [
    "##### Answer"
   ]
  },
  {
   "cell_type": "code",
   "execution_count": null,
   "metadata": {
    "vscode": {
     "languageId": "sql"
    }
   },
   "outputs": [],
   "source": [
    "select e.first_name , e.last_name \n",
    "from "
   ]
  },
  {
   "cell_type": "markdown",
   "metadata": {},
   "source": [
    "#### Query 9"
   ]
  },
  {
   "cell_type": "markdown",
   "metadata": {},
   "source": [
    "List all employees who have worked in more than one department"
   ]
  },
  {
   "cell_type": "markdown",
   "metadata": {},
   "source": [
    "##### Answer"
   ]
  },
  {
   "cell_type": "code",
   "execution_count": null,
   "metadata": {
    "vscode": {
     "languageId": "sql"
    }
   },
   "outputs": [],
   "source": [
    "select e.first_name , e.last_name , count(de.dept_no) num_dept\n",
    "from employees e \n",
    "join dept_emp de on e.emp_no = de.emp_no\n",
    "GROUP by e.first_name , e.last_name , e.emp_no\n",
    "HAVING num_dept > 1;"
   ]
  },
  {
   "cell_type": "markdown",
   "metadata": {},
   "source": [
    "#### Query 10"
   ]
  },
  {
   "cell_type": "markdown",
   "metadata": {},
   "source": [
    "Find the department with the highest average salary"
   ]
  },
  {
   "cell_type": "markdown",
   "metadata": {},
   "source": [
    "UpSolve"
   ]
  },
  {
   "cell_type": "markdown",
   "metadata": {},
   "source": [
    "##### Answer"
   ]
  },
  {
   "cell_type": "code",
   "execution_count": null,
   "metadata": {
    "vscode": {
     "languageId": "sql"
    }
   },
   "outputs": [],
   "source": [
    "select d.dept_name , AVG(s.salary) as avg_salary\n",
    "from departments d \n",
    "join salaries s on s.emp_no = de.emp_no\n",
    "join dept_emp de on d.dept_no = de.dept_no \n",
    "GROUP by d.dept_name\n",
    "ORDER by avg_salary DESC\n",
    "LIMIT 1;"
   ]
  },
  {
   "cell_type": "markdown",
   "metadata": {},
   "source": [
    "#### Query 11"
   ]
  },
  {
   "cell_type": "markdown",
   "metadata": {},
   "source": [
    "List all employees who have had a salary increase of more than 10%"
   ]
  },
  {
   "cell_type": "markdown",
   "metadata": {},
   "source": [
    "##### Answer"
   ]
  },
  {
   "cell_type": "code",
   "execution_count": null,
   "metadata": {
    "vscode": {
     "languageId": "sql"
    }
   },
   "outputs": [],
   "source": [
    "SELECT e.first_name, e.last_name\n",
    "FROM employees e\n",
    "JOIN salaries s ON e.emp_no = s.emp_no\n",
    "WHERE s.salary - (\n",
    "    SELECT MAX(s2.salary)\n",
    "    FROM salaries s2\n",
    "    WHERE s2.emp_no = s.emp_no AND s2.salary < s.salary\n",
    ") > (s.salary * 0.1);\n"
   ]
  },
  {
   "cell_type": "markdown",
   "metadata": {},
   "source": [
    "## Advanced queries"
   ]
  },
  {
   "cell_type": "markdown",
   "metadata": {},
   "source": [
    "#### Query 1"
   ]
  },
  {
   "cell_type": "markdown",
   "metadata": {},
   "source": [
    "Find the top 10 highest-paid employees in the company"
   ]
  },
  {
   "cell_type": "markdown",
   "metadata": {},
   "source": [
    "##### Answer"
   ]
  },
  {
   "cell_type": "code",
   "execution_count": null,
   "metadata": {
    "vscode": {
     "languageId": "sql"
    }
   },
   "outputs": [],
   "source": [
    "SELECT e.emp_no, e.first_name, e.last_name, MAX(s.salary) AS highest_salary\n",
    "FROM employees e\n",
    "JOIN salaries s ON e.emp_no = s.emp_no\n",
    "GROUP BY e.emp_no, e.first_name, e.last_name\n",
    "ORDER BY highest_salary DESC\n",
    "LIMIT 10;"
   ]
  },
  {
   "cell_type": "markdown",
   "metadata": {},
   "source": [
    "#### Query 2"
   ]
  },
  {
   "cell_type": "markdown",
   "metadata": {},
   "source": [
    "List all employees who have had more than one manager:"
   ]
  },
  {
   "cell_type": "markdown",
   "metadata": {},
   "source": [
    "##### Answer"
   ]
  },
  {
   "cell_type": "code",
   "execution_count": null,
   "metadata": {
    "vscode": {
     "languageId": "sql"
    }
   },
   "outputs": [],
   "source": [
    "SELECT e.emp_no, e.first_name, e.last_name, COUNT(DISTINCT m.emp_no) AS num_managers\n",
    "FROM employees e\n",
    "JOIN dept_emp de ON e.emp_no = de.emp_no\n",
    "JOIN dept_manager m ON de.dept_no = m.dept_no AND de.from_date BETWEEN m.from_date AND m.to_date\n",
    "GROUP BY e.emp_no, e.first_name, e.last_name\n",
    "HAVING num_managers > 1;"
   ]
  },
  {
   "cell_type": "markdown",
   "metadata": {},
   "source": [
    "#### Query 3"
   ]
  },
  {
   "cell_type": "markdown",
   "metadata": {},
   "source": [
    "List all departments and the average salary of their employees"
   ]
  },
  {
   "cell_type": "markdown",
   "metadata": {},
   "source": [
    "##### Answer"
   ]
  },
  {
   "cell_type": "code",
   "execution_count": null,
   "metadata": {
    "vscode": {
     "languageId": "sql"
    }
   },
   "outputs": [],
   "source": [
    "select d.dept_name, AVG(s.salary) AS avg_salary\n",
    "from departments d\n",
    "join dept_emp de ON d.dept_no = de.dept_no\n",
    "join salaries s ON de.emp_no = s.emp_no\n",
    "GROUP BY d.dept_name;"
   ]
  }
 ],
 "metadata": {
  "language_info": {
   "name": "python"
  }
 },
 "nbformat": 4,
 "nbformat_minor": 2
}
