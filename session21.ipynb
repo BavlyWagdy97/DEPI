{
 "cells": [
  {
   "cell_type": "code",
   "execution_count": 37,
   "metadata": {},
   "outputs": [],
   "source": [
    "import sqlite3\n",
    "db = sqlite3.connect(\"dep.db\")\n",
    "crsr = db.cursor()\n",
    "# create another table: \n",
    "crsr.execute(\"CREATE TABLE if not exists Student(student_id integer, name text , phone integer)\")\n",
    "db.commit()\n",
    "\n",
    "#print(crsr.execute(\"select * from Student;\"))"
   ]
  },
  {
   "cell_type": "code",
   "execution_count": 36,
   "metadata": {},
   "outputs": [
    {
     "name": "stdout",
     "output_type": "stream",
     "text": [
      "<sqlite3.Cursor object at 0x000002157A559740>\n"
     ]
    }
   ],
   "source": [
    "crsr.execute(\"insert into Student(student_id , name , phone) values (1 , bavly , 01010101012)\")\n",
    "crsr.execute(\"insert into Student(student_id , name , phone) values (2 , ramy , 01010101013)\")\n",
    "crsr.execute(\"insert into Student(student_id , name , phone) values (3 , mahmoud , 01010105012)\")\n",
    "crsr.execute(\"insert into Student(student_id , name , phone) values (4 , amr , 01010101016)\")\n",
    "crsr.execute(\"insert into Student(student_id , name , phone) values (5 , omar , 01010101092)\")\n",
    "crsr.execute(\"insert into Student(student_id , name , phone) values (6 , sama , 01010101412)\")\n",
    "crsr.execute(\"insert into Student(student_id , name , phone) values (7 , mohamed , 01010201012)\")\n",
    "crsr.execute(\"insert into Student(student_id , name , phone) values (8 , mostafa , 01019101012)\")\n",
    "crsr.execute(\"insert into Student(student_id , name , phone) values (9 , amir , 01010801012)\")\n",
    "crsr.execute(\"insert into Student(student_id , name , phone) values (10 , malak , 01020101012)\")\n",
    "crsr.execute(\"insert into Student(student_id , name , phone) values (11 , heba , 01017101012)\")\n",
    "crsr.execute(\"insert into Student(student_id , name , phone) values (12 , amjad , 01000101012)\")\n",
    "crsr.execute(\"insert into Student(student_id , name , phone) values (13 , amar , 01011101012)\")\n",
    "crsr.execute(\"insert into Student(student_id , name , phone) values (14 , john , 01019101012)\")\n",
    "crsr.execute(\"insert into Student(student_id , name , phone) values (15 , younes , 01310101012)\")\n",
    "crsr.execute(\"insert into Student(student_id , name , phone) values (16 , ali , 01010601012)\")\n",
    "crsr.execute(\"insert into Student(student_id , name , phone) values (17 , alaa , 01017101012)\")\n",
    "crsr.execute(\"insert into Student(student_id , name , phone) values (18 , nady , 01014101012)\")\n",
    "crsr.execute(\"insert into Student(student_id , name , phone) values (19 , nader , 01020101012)\")\n",
    "crsr.execute(\"insert into Student(student_id , name , phone) values (20 , wagieh , 01810101012)\")\n",
    "crsr.execute(\"insert into Student(student_id , name , phone) values (21 , bassem , 01510101012)\")\n",
    "crsr.execute(\"insert into Student(student_id , name , phone) values (22 , saber , 01060101012)\")\n",
    "crsr.execute(\"insert into Student(student_id , name , phone) values (23 , yousry , 01410101012)\")\n",
    "crsr.execute(\"insert into Student(student_id, name , phone) values (24 , heba , 01010101012)\")\n",
    "crsr.execute(\"insert into Student(student_id, name , phone) values (25 , maged , 01012101012)\")\n",
    "db.commit()"
   ]
  }
 ],
 "metadata": {
  "kernelspec": {
   "display_name": "Python 3",
   "language": "python",
   "name": "python3"
  },
  "language_info": {
   "codemirror_mode": {
    "name": "ipython",
    "version": 3
   },
   "file_extension": ".py",
   "mimetype": "text/x-python",
   "name": "python",
   "nbconvert_exporter": "python",
   "pygments_lexer": "ipython3",
   "version": "3.12.4"
  }
 },
 "nbformat": 4,
 "nbformat_minor": 2
}
